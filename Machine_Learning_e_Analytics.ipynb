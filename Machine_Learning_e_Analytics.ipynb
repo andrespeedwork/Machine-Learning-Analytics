{
  "nbformat": 4,
  "nbformat_minor": 0,
  "metadata": {
    "colab": {
      "provenance": [],
      "authorship_tag": "ABX9TyMvJsbdFNlKXWPY4B3TDout",
      "include_colab_link": true
    },
    "kernelspec": {
      "name": "python3",
      "display_name": "Python 3"
    },
    "language_info": {
      "name": "python"
    }
  },
  "cells": [
    {
      "cell_type": "markdown",
      "metadata": {
        "id": "view-in-github",
        "colab_type": "text"
      },
      "source": [
        "<a href=\"https://colab.research.google.com/github/andrespeedwork/Machine-Learning-Analytics/blob/main/Machine_Learning_e_Analytics.ipynb\" target=\"_parent\"><img src=\"https://colab.research.google.com/assets/colab-badge.svg\" alt=\"Open In Colab\"/></a>"
      ]
    },
    {
      "cell_type": "code",
      "execution_count": 51,
      "metadata": {
        "colab": {
          "base_uri": "https://localhost:8080/"
        },
        "id": "lelrw2kQY0i2",
        "outputId": "a0ecf0f5-65d4-469d-b406-cf9ef09a4928"
      },
      "outputs": [
        {
          "output_type": "stream",
          "name": "stdout",
          "text": [
            "Drive already mounted at /content/drive; to attempt to forcibly remount, call drive.mount(\"/content/drive\", force_remount=True).\n"
          ]
        },
        {
          "output_type": "execute_result",
          "data": {
            "text/plain": [
              "(None,)"
            ]
          },
          "metadata": {},
          "execution_count": 51
        }
      ],
      "source": [
        "from google.colab import drive #(Preparando o ambiente para criação do MVP Machine Learning & Analytics)\n",
        "drive.mount('/content/drive'),"
      ]
    },
    {
      "cell_type": "code",
      "source": [
        "# Biblioteca responsável por fazer a leitura e impressão da base de dados\n",
        "import pandas as pd #(Importando PANDAS e criando alias para facilitar na digitação)\n",
        "import numpy as np\n",
        "import matplotlib.pyplot as plt\n",
        "from sklearn.model_selection import train_test_split\n",
        "from sklearn.preprocessing import StandardScaler\n",
        "from sklearn.ensemble import RandomForestClassifier\n",
        "from sklearn.metrics import classification_report\n",
        "from sklearn.neighbors import KNeighborsClassifier\n",
        "from sklearn.linear_model import LogisticRegression\n",
        "from sklearn.model_selection import GridSearchCV\n",
        "from sklearn.model_selection import cross_val_score, StratifiedKFold\n",
        "from sklearn.model_selection import train_test_split, cross_val_score\n",
        "from sklearn.feature_extraction.text import TfidfVectorizer\n",
        "from sklearn.naive_bayes import MultinomialNB"
      ],
      "metadata": {
        "id": "2O8J_62wZLV_"
      },
      "execution_count": 52,
      "outputs": []
    },
    {
      "cell_type": "code",
      "source": [
        "# Ler o arquivo csv, especificando o delimitador e o tratamento de erros\n",
        "df = pd.read_csv('https://raw.githubusercontent.com/andrespeedwork/Machine-Learning-Analytics/refs/heads/main/spam.csv', delimiter=',', on_bad_lines='skip')\n",
        "# or\n",
        "# df = pd.read_csv('/content/spam.csv', delimiter=';', on_bad_lines='skip') # if delimiter is ';'"
      ],
      "metadata": {
        "id": "UAhlFMW4ZUTM"
      },
      "execution_count": 53,
      "outputs": []
    },
    {
      "cell_type": "code",
      "source": [
        "# Exibir as primeiras linhas do DataFrame\n",
        "print(df.head()) # Mostra as 5 primeiras linhas por padrão e as 5 últimas"
      ],
      "metadata": {
        "colab": {
          "base_uri": "https://localhost:8080/"
        },
        "id": "LVuxG6_eaTPP",
        "outputId": "211e3093-d145-4772-e0e4-031121cff0dd"
      },
      "execution_count": 54,
      "outputs": [
        {
          "output_type": "stream",
          "name": "stdout",
          "text": [
            "                                                                                             v1;v2;;;\n",
            "ham;Go until jurong point                            crazy.. Available only in bugis n great world...\n",
            "ham;Ok lar... Joking wif u oni...;;;                                                              NaN\n",
            "spam;Free entry in 2 a wkly comp to win FA Cup ...                                                NaN\n",
            "ham;U dun say so early hor... U c already then ...                                                NaN\n",
            "ham;Nah I don't think he goes to usf                                   he lives around here though;;;\n"
          ]
        }
      ]
    },
    {
      "cell_type": "code",
      "source": [
        "# Resumo estatístico das colunas numéricas\n",
        "print(df.describe())  # Estatísticas descritivas como média e desvio padrão"
      ],
      "metadata": {
        "colab": {
          "base_uri": "https://localhost:8080/"
        },
        "id": "05iy0hX5aYOA",
        "outputId": "0ebbab56-ebb6-45c5-a49a-e767a779b20e"
      },
      "execution_count": 55,
      "outputs": [
        {
          "output_type": "stream",
          "name": "stdout",
          "text": [
            "                   v1;v2;;;\n",
            "count                   927\n",
            "unique                  828\n",
            "top      I'll call later;;;\n",
            "freq                     30\n"
          ]
        }
      ]
    },
    {
      "cell_type": "code",
      "source": [
        "# Verificar a dimensão do DataFrame\n",
        "print(f\"Dimensões do dataset: {df.shape}\")  # Número de linhas e colunas"
      ],
      "metadata": {
        "colab": {
          "base_uri": "https://localhost:8080/"
        },
        "id": "pB0OmvAla7Fl",
        "outputId": "80cecef0-75f2-4282-9089-c6a8ae79dc58"
      },
      "execution_count": 56,
      "outputs": [
        {
          "output_type": "stream",
          "name": "stdout",
          "text": [
            "Dimensões do dataset: (5198, 1)\n"
          ]
        }
      ]
    },
    {
      "cell_type": "code",
      "source": [
        "# Visualizar se há valores ausentes\n",
        "print(df.isnull().sum())  # Contagem de valores nulos por coluna"
      ],
      "metadata": {
        "colab": {
          "base_uri": "https://localhost:8080/"
        },
        "id": "u-d7w7ixfL-E",
        "outputId": "48e8549e-abba-42f8-b988-a32d551f8082"
      },
      "execution_count": 57,
      "outputs": [
        {
          "output_type": "stream",
          "name": "stdout",
          "text": [
            "v1;v2;;;    4271\n",
            "dtype: int64\n"
          ]
        }
      ]
    },
    {
      "cell_type": "code",
      "source": [
        "# Tratar valores ausentes\n",
        "df = df.dropna()  # Remove linhas com valores nulos (ou use imputação)"
      ],
      "metadata": {
        "id": "n0Bwkz40fQK0"
      },
      "execution_count": 58,
      "outputs": []
    },
    {
      "cell_type": "code",
      "source": [
        "# Visualizar o dataset após o tratamento dos valores ausentes\n",
        "print(df.isnull().sum())  # Contagem de valores nulos por coluna"
      ],
      "metadata": {
        "colab": {
          "base_uri": "https://localhost:8080/"
        },
        "id": "Q8r5CFzSfSyA",
        "outputId": "446d0051-a52f-4fd0-aaf6-477f194e7e84"
      },
      "execution_count": 60,
      "outputs": [
        {
          "output_type": "stream",
          "name": "stdout",
          "text": [
            "v1;v2;;;    0\n",
            "dtype: int64\n"
          ]
        }
      ]
    },
    {
      "cell_type": "code",
      "source": [
        "# Verificar a dimensão do DataFrame\n",
        "print(f\"Dimensões do dataset: {df.shape}\")  # Número de linhas e colunas"
      ],
      "metadata": {
        "colab": {
          "base_uri": "https://localhost:8080/"
        },
        "id": "tXGjLqJ9gF4O",
        "outputId": "aa061dbc-6335-4e00-b009-1ad09bfeb1a8"
      },
      "execution_count": 61,
      "outputs": [
        {
          "output_type": "stream",
          "name": "stdout",
          "text": [
            "Dimensões do dataset: (927, 1)\n"
          ]
        }
      ]
    },
    {
      "cell_type": "code",
      "source": [
        "# Carregar o dataset using semicolon as delimiter\n",
        "df = pd.read_csv('spam.csv', encoding='latin-1', delimiter=';')\n",
        "# Setting delimiter to ';' to correctly parse the file\n",
        "df = df[['v1', 'v2']]  # Ajuste para separar rótulos e mensagens\n",
        "df.columns = ['label', 'text']\n",
        "df['label'] = df['label'].map({'ham': 0, 'spam': 1})  # Codificação binária"
      ],
      "metadata": {
        "id": "af-Ala5Zg-ki"
      },
      "execution_count": 62,
      "outputs": []
    },
    {
      "cell_type": "code",
      "source": [
        "vectorizer = TfidfVectorizer(stop_words='english', max_features=5000)\n",
        "X = vectorizer.fit_transform(df['text'])\n",
        "y = df['label']"
      ],
      "metadata": {
        "id": "5kNF1j-dhBmM"
      },
      "execution_count": 63,
      "outputs": []
    },
    {
      "cell_type": "code",
      "source": [
        "# Dividir em treino e teste\n",
        "X_train, X_test, y_train, y_test = train_test_split(X, y, test_size=0.2, random_state=42)"
      ],
      "metadata": {
        "id": "aIwIWcdChSzD"
      },
      "execution_count": 64,
      "outputs": []
    },
    {
      "cell_type": "code",
      "source": [
        "# Modelo e validação cruzada\n",
        "model = MultinomialNB()\n",
        "scores = cross_val_score(model, X_train, y_train, cv=5, scoring='f1')\n",
        "\n",
        "print(f\"F1-Score médio: {scores.mean()}\")"
      ],
      "metadata": {
        "colab": {
          "base_uri": "https://localhost:8080/"
        },
        "id": "An72AMeyhWNg",
        "outputId": "8d2b635e-ef88-499f-93dd-e6f6eeb725c7"
      },
      "execution_count": 65,
      "outputs": [
        {
          "output_type": "stream",
          "name": "stdout",
          "text": [
            "F1-Score médio: 0.8920159623763471\n"
          ]
        }
      ]
    },
    {
      "cell_type": "code",
      "source": [
        "# Treinar e testar o modelo\n",
        "model.fit(X_train, y_train)\n",
        "y_pred = model.predict(X_test)"
      ],
      "metadata": {
        "id": "Kvqyw-85hbSQ"
      },
      "execution_count": 66,
      "outputs": []
    },
    {
      "cell_type": "code",
      "source": [
        "# Treinar KNN com Cross-Validation\n",
        "\n",
        "#Aqui, usamos a validação cruzada com o modelo KNN para avaliar o desempenho.\n",
        "\n",
        "from sklearn.neighbors import KNeighborsClassifier\n",
        "from sklearn.model_selection import cross_val_score, StratifiedKFold\n",
        "\n",
        "# Configurar validação cruzada\n",
        "cv = StratifiedKFold(n_splits=5, shuffle=True, random_state=42)\n",
        "\n",
        "# Treinar o modelo KNN\n",
        "knn = KNeighborsClassifier(n_neighbors=5)  # Começando com k=5\n",
        "scores = cross_val_score(knn, X, y, cv=cv, scoring='accuracy')\n",
        "\n",
        "# Resultados\n",
        "print(f\"Acurácias por dobra: {scores}\")\n",
        "print(f\"Acurácia média: {scores.mean():.4f}\")"
      ],
      "metadata": {
        "colab": {
          "base_uri": "https://localhost:8080/"
        },
        "id": "_-dcYc3_hihV",
        "outputId": "a902b743-73d7-45b3-a4d9-abb4ba06fac0"
      },
      "execution_count": 67,
      "outputs": [
        {
          "output_type": "stream",
          "name": "stdout",
          "text": [
            "Acurácias por dobra: [0.90852018 0.91121076 0.90933573 0.90394973 0.91472172]\n",
            "Acurácia média: 0.9095\n"
          ]
        }
      ]
    },
    {
      "cell_type": "code",
      "source": [
        "# Relatório final\n",
        "print(classification_report(y_test, y_pred))"
      ],
      "metadata": {
        "colab": {
          "base_uri": "https://localhost:8080/"
        },
        "id": "KjLO8a-KhkeT",
        "outputId": "69f99791-b5f4-42d5-eda2-96d80c744e8b"
      },
      "execution_count": 68,
      "outputs": [
        {
          "output_type": "stream",
          "name": "stdout",
          "text": [
            "              precision    recall  f1-score   support\n",
            "\n",
            "           0       0.97      1.00      0.99       965\n",
            "           1       1.00      0.82      0.90       150\n",
            "\n",
            "    accuracy                           0.98      1115\n",
            "   macro avg       0.99      0.91      0.94      1115\n",
            "weighted avg       0.98      0.98      0.97      1115\n",
            "\n"
          ]
        }
      ]
    },
    {
      "cell_type": "code",
      "source": [
        "# Random Forest Classifier\n",
        "\n",
        "rf = RandomForestClassifier(random_state=42)\n",
        "rf.fit(X_train, y_train)\n",
        "\n",
        "# Fazer predições\n",
        "y_pred_rf = rf.predict(X_test)\n",
        "\n",
        "# Avaliação\n",
        "print(\"Random Forest Classifier\")\n",
        "print(classification_report(y_test, y_pred_rf))"
      ],
      "metadata": {
        "colab": {
          "base_uri": "https://localhost:8080/"
        },
        "id": "q3BUa2gfhqZQ",
        "outputId": "8a55b574-96b4-44a0-f2e3-a9c0c5c03c64"
      },
      "execution_count": 69,
      "outputs": [
        {
          "output_type": "stream",
          "name": "stdout",
          "text": [
            "Random Forest Classifier\n",
            "              precision    recall  f1-score   support\n",
            "\n",
            "           0       0.98      1.00      0.99       965\n",
            "           1       0.99      0.85      0.91       150\n",
            "\n",
            "    accuracy                           0.98      1115\n",
            "   macro avg       0.98      0.92      0.95      1115\n",
            "weighted avg       0.98      0.98      0.98      1115\n",
            "\n"
          ]
        }
      ]
    },
    {
      "cell_type": "code",
      "source": [
        "# Logistic Regression\n",
        "\n",
        "lr = LogisticRegression(random_state=42)\n",
        "lr.fit(X_train, y_train)\n",
        "\n",
        "# Fazer predições\n",
        "y_pred_lr = lr.predict(X_test)\n",
        "\n",
        "# Avaliação\n",
        "print(\"Logistic Regression\")\n",
        "print(classification_report(y_test, y_pred_lr))"
      ],
      "metadata": {
        "colab": {
          "base_uri": "https://localhost:8080/"
        },
        "id": "4t6GJmG_hvdu",
        "outputId": "19117b1c-bdba-482e-83d1-2544a31c314a"
      },
      "execution_count": 70,
      "outputs": [
        {
          "output_type": "stream",
          "name": "stdout",
          "text": [
            "Logistic Regression\n",
            "              precision    recall  f1-score   support\n",
            "\n",
            "           0       0.95      1.00      0.97       965\n",
            "           1       0.97      0.63      0.77       150\n",
            "\n",
            "    accuracy                           0.95      1115\n",
            "   macro avg       0.96      0.82      0.87      1115\n",
            "weighted avg       0.95      0.95      0.94      1115\n",
            "\n"
          ]
        }
      ]
    },
    {
      "cell_type": "code",
      "source": [
        "# K-Nearest Neighbors (KNN)\n",
        "\n",
        "knn = KNeighborsClassifier(n_neighbors=7)\n",
        "knn.fit(X_train, y_train)\n",
        "\n",
        "# Fazer predições\n",
        "y_pred_knn = knn.predict(X_test)\n",
        "\n",
        "# Avaliação\n",
        "print(\"K-Nearest Neighbors\")\n",
        "print(classification_report(y_test, y_pred_knn))"
      ],
      "metadata": {
        "colab": {
          "base_uri": "https://localhost:8080/"
        },
        "id": "NdRMAtNwh5_-",
        "outputId": "f11ebfd8-1b32-443b-a114-2aa85a00fa3e"
      },
      "execution_count": 71,
      "outputs": [
        {
          "output_type": "stream",
          "name": "stdout",
          "text": [
            "K-Nearest Neighbors\n",
            "              precision    recall  f1-score   support\n",
            "\n",
            "           0       0.90      1.00      0.95       965\n",
            "           1       1.00      0.25      0.40       150\n",
            "\n",
            "    accuracy                           0.90      1115\n",
            "   macro avg       0.95      0.63      0.67      1115\n",
            "weighted avg       0.91      0.90      0.87      1115\n",
            "\n"
          ]
        }
      ]
    },
    {
      "cell_type": "code",
      "source": [
        "# Ajuste de Hiperparâmetros\n",
        "\n",
        "# Para melhorar o desempenho, ajuste os hiperparâmetros dos modelos. Exemplos:\n",
        "\n",
        "#    Para Random Forest: Ajuste n_estimators, max_depth, etc.\n",
        "#   Para KNN: Teste diferentes valores para n_neighbors.\n",
        "\n",
        "# Exemplo com GridSearchCV:\n",
        "\n",
        "# from sklearn.model_selection import GridSearchCV\n",
        "\n",
        "# Parâmetros para ajustar no KNN\n",
        "param_grid = {'n_neighbors': [3, 5, 7, 9]}\n",
        "grid_knn = GridSearchCV(KNeighborsClassifier(), param_grid, cv=5)\n",
        "grid_knn.fit(X_train, y_train)\n",
        "\n",
        "print(\"Melhores parâmetros para KNN:\", grid_knn.best_params_)"
      ],
      "metadata": {
        "colab": {
          "base_uri": "https://localhost:8080/"
        },
        "id": "mC7hBxvQh_TT",
        "outputId": "cb22decf-3ce0-4ee2-83c6-0b6748f9775e"
      },
      "execution_count": 72,
      "outputs": [
        {
          "output_type": "stream",
          "name": "stdout",
          "text": [
            "Melhores parâmetros para KNN: {'n_neighbors': 3}\n"
          ]
        }
      ]
    },
    {
      "cell_type": "code",
      "source": [
        "# Ajuste do Número de Vizinhos (k)\n",
        "\n",
        "# Teste diferentes valores de k para encontrar o melhor.\n",
        "\n",
        "import matplotlib.pyplot as plt\n",
        "\n",
        "k_values = range(1, 9)\n",
        "mean_scores = []\n",
        "\n",
        "for k in k_values:\n",
        "    knn = KNeighborsClassifier(n_neighbors=k)\n",
        "    scores = cross_val_score(knn, X, y, cv=cv, scoring='accuracy')\n",
        "    mean_scores.append(scores.mean())\n",
        "\n",
        "# Plotar o desempenho\n",
        "plt.plot(k_values, mean_scores, marker='o')\n",
        "plt.xlabel(\"Número de Vizinhos (k)\")\n",
        "plt.ylabel(\"Acurácia Média\")\n",
        "plt.title(\"Desempenho do KNN com diferentes valores de k\")\n",
        "plt.grid()\n",
        "plt.show()\n",
        "\n",
        "# Melhor k\n",
        "best_k = k_values[mean_scores.index(max(mean_scores))]\n",
        "print(f\"Melhor valor de k: {best_k}\")"
      ],
      "metadata": {
        "colab": {
          "base_uri": "https://localhost:8080/",
          "height": 490
        },
        "id": "1pW602cHiHgT",
        "outputId": "ed0d3d58-d075-44ad-d4d6-16dedc8ec911"
      },
      "execution_count": 73,
      "outputs": [
        {
          "output_type": "display_data",
          "data": {
            "text/plain": [
              "<Figure size 640x480 with 1 Axes>"
            ],
            "image/png": "[encoded data removed]"
          },
          "metadata": {}
        },
        {
          "output_type": "stream",
          "name": "stdout",
          "text": [
            "Melhor valor de k: 1\n"
          ]
        }
      ]
    },
    {
      "cell_type": "code",
      "source": [
        "# Treinamento Final com o Melhor k\n",
        "\n",
        "# Após encontrar o melhor valor de k, treine o modelo novamente e avalie o desempenho.\n",
        "\n",
        "# Melhor KNN\n",
        "knn_best = KNeighborsClassifier(n_neighbors=best_k)\n",
        "\n",
        "# Avaliação com validação cruzada\n",
        "final_scores = cross_val_score(knn_best, X, y, cv=cv, scoring='accuracy')\n",
        "\n",
        "print(f\"Melhor KNN - Acurácias por dobra: {final_scores}\")\n",
        "print(f\"Melhor KNN - Acurácia média: {final_scores.mean():.4f}\")"
      ],
      "metadata": {
        "colab": {
          "base_uri": "https://localhost:8080/"
        },
        "id": "QBK_b4w8iPuo",
        "outputId": "c057b8c6-9c0f-4589-a84b-903a8fefead4"
      },
      "execution_count": 74,
      "outputs": [
        {
          "output_type": "stream",
          "name": "stdout",
          "text": [
            "Melhor KNN - Acurácias por dobra: [0.95515695 0.95964126 0.9497307  0.9470377  0.95062837]\n",
            "Melhor KNN - Acurácia média: 0.9524\n"
          ]
        }
      ]
    },
    {
      "cell_type": "code",
      "source": [
        "# Avaliação no Conjunto de Teste\n",
        "\n",
        "#Divida os dados em treino e teste para avaliar o modelo no conjunto de teste.\n",
        "\n",
        "from sklearn.model_selection import train_test_split\n",
        "from sklearn.metrics import classification_report, confusion_matrix\n",
        "\n",
        "# Separar conjunto de treino e teste\n",
        "X_train, X_test, y_train, y_test = train_test_split(X, y, test_size=0.2, random_state=42, stratify=y)\n",
        "\n",
        "# Treinar o modelo com o melhor k\n",
        "knn_best.fit(X_train, y_train)\n",
        "y_pred = knn_best.predict(X_test)\n",
        "\n",
        "# Avaliar desempenho\n",
        "print(confusion_matrix(y_test, y_pred))\n",
        "print(classification_report(y_test, y_pred))"
      ],
      "metadata": {
        "colab": {
          "base_uri": "https://localhost:8080/"
        },
        "id": "dzY7VfgOiUEQ",
        "outputId": "50a351f6-f097-4600-946c-a3ec50cd396b"
      },
      "execution_count": 75,
      "outputs": [
        {
          "output_type": "stream",
          "name": "stdout",
          "text": [
            "[[966   0]\n",
            " [ 56  93]]\n",
            "              precision    recall  f1-score   support\n",
            "\n",
            "           0       0.95      1.00      0.97       966\n",
            "           1       1.00      0.62      0.77       149\n",
            "\n",
            "    accuracy                           0.95      1115\n",
            "   macro avg       0.97      0.81      0.87      1115\n",
            "weighted avg       0.95      0.95      0.94      1115\n",
            "\n"
          ]
        }
      ]
    },
    {
      "cell_type": "markdown",
      "source": [
        "**XXXXXXXXXXXXXXXXXXXXXXXXXXXXXXXXXXXXXXXXXXXXXXX** Checklist sugerido:"
      ],
      "metadata": {
        "id": "irCrFnluiagx"
      }
    }
  ]
}