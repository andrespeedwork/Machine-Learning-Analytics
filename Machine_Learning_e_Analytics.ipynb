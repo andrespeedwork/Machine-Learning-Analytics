{
  "nbformat": 4,
  "nbformat_minor": 0,
  "metadata": {
    "colab": {
      "provenance": [],
      "authorship_tag": "ABX9TyOcKmxOU8IlhUWPHVLDJNe/",
      "include_colab_link": true
    },
    "kernelspec": {
      "name": "python3",
      "display_name": "Python 3"
    },
    "language_info": {
      "name": "python"
    }
  },
  "cells": [
    {
      "cell_type": "markdown",
      "metadata": {
        "id": "view-in-github",
        "colab_type": "text"
      },
      "source": [
        "<a href=\"https://colab.research.google.com/github/andrespeedwork/Machine-Learning-Analytics/blob/main/Machine_Learning_e_Analytics.ipynb\" target=\"_parent\"><img src=\"https://colab.research.google.com/assets/colab-badge.svg\" alt=\"Open In Colab\"/></a>"
      ]
    },
    {
      "cell_type": "markdown",
      "source": [
        "##Introdução\n",
        "\n",
        "Projeto de Machine Learning: Classificação de Emails como Spam ou Não Spam\n",
        "\n",
        "Este projeto visa desenvolver um modelo de Machine Learning para classificar automaticamente emails como spam ou não spam, ajudando a melhorar a experiência do usuário e proteger sistemas contra riscos como phishing e malware. O modelo será treinado usando um dataset de emails e explorará algoritmos como Naive Bayes, SVM e Random Forest para identificar as características que distinguem mensagens legítimas de indesejadas. O processo incluirá pré-processamento dos dados, extração de características e avaliação do desempenho com métricas como acurácia, precisão, recall e F1-score.\n"
      ],
      "metadata": {
        "id": "C_0LaxD4d4lx"
      }
    },
    {
      "cell_type": "markdown",
      "source": [
        "##Preparação do ambiente de Machine Learning & Analytics para o desenvolvimento do MVP"
      ],
      "metadata": {
        "id": "1kqcreae0HLS"
      }
    },
    {
      "cell_type": "code",
      "execution_count": 30,
      "metadata": {
        "id": "lelrw2kQY0i2",
        "colab": {
          "base_uri": "https://localhost:8080/"
        },
        "outputId": "9faeb84e-d716-426d-bb5d-6bb8b4c38bdd"
      },
      "outputs": [
        {
          "output_type": "stream",
          "name": "stdout",
          "text": [
            "Drive already mounted at /content/drive; to attempt to forcibly remount, call drive.mount(\"/content/drive\", force_remount=True).\n"
          ]
        },
        {
          "output_type": "execute_result",
          "data": {
            "text/plain": [
              "(None,)"
            ]
          },
          "metadata": {},
          "execution_count": 30
        }
      ],
      "source": [
        "from google.colab import drive #(Preparando o ambiente para criação do MVP Machine Learning & Analytics)\n",
        "drive.mount('/content/drive'),"
      ]
    },
    {
      "cell_type": "code",
      "source": [
        "import pandas as pd # Biblioteca fundamental para leitura, manipulação e análise de dados estruturados, especialmente em formato de tabelas (DataFrames).\n",
        "import numpy as np # Biblioteca essencial para operações matemáticas e manipulação de grandes arranjos e matrizes multidimensionais, frequentemente usada para processamento de dados numéricos.\n",
        "import matplotlib.pyplot as plt # Biblioteca amplamente utilizada para criação de gráficos e visualizações em 2D, essencial para análise exploratória de dados e apresentação de resultados.\n",
        "from sklearn.model_selection import train_test_split # Função para dividir os dados em conjuntos de treinamento e teste, essencial para avaliar o desempenho do modelo em dados não vistos.\n",
        "from sklearn.preprocessing import StandardScaler # Biblioteca responsável pela padronização dos dados, transformando as características de modo que possuam média zero e desvio padrão igual a um, melhorando a performance de modelos que dependem da escala dos dados.\n",
        "from sklearn.ensemble import RandomForestClassifier # Implementação do algoritmo Random Forest (floresta aleatória), utilizado para classificação e regressão com alta robustez e capacidade de lidar com dados complexos e de alta dimensionalidade.\n",
        "from sklearn.metrics import classification_report # Ferramenta para avaliar modelos de classificação, fornecendo métricas detalhadas como precisão, recall, F1-score e a matriz de confusão.\n",
        "from sklearn.neighbors import KNeighborsClassifier # Implementação do algoritmo k-Nearest Neighbors (KNN), que classifica instâncias com base nas distâncias das instâncias mais próximas do conjunto de treinamento.\n",
        "from sklearn.linear_model import LogisticRegression # Implementação da regressão logística, um modelo estatístico amplamente utilizado para problemas de classificação binária e multiclasse.\n",
        "from sklearn.model_selection import GridSearchCV # Ferramenta para realizar a busca em grade (grid search), que ajuda a otimizar os hiperparâmetros do modelo, encontrando a melhor combinação para melhorar o desempenho do modelo.\n",
        "from sklearn.model_selection import cross_val_score, StratifiedKFold # Ferramentas para realizar validação cruzada do modelo, com a opção de realizar uma divisão estratificada para garantir a distribuição proporcional das classes em cada fold.\n",
        "from sklearn.feature_extraction.text import TfidfVectorizer # Ferramenta para transformar dados de texto em representações numéricas, utilizando o método TF-IDF (Term Frequency-Inverse Document Frequency), que calcula a relevância de cada termo em relação ao conjunto de documentos.\n",
        "from sklearn.naive_bayes import MultinomialNB # Implementação do classificador Naive Bayes Multinomial, utilizado principalmente em problemas de classificação de texto, onde as características representam contagens ou frequências de palavras."
      ],
      "metadata": {
        "id": "2O8J_62wZLV_"
      },
      "execution_count": 31,
      "outputs": []
    },
    {
      "cell_type": "code",
      "source": [
        "# Lendo o arquivo csv, especificando o delimitador e o tratamento de erros\n",
        "df = pd.read_csv('https://raw.githubusercontent.com/andrespeedwork/Machine-Learning-Analytics/refs/heads/main/spam.csv', delimiter=',', on_bad_lines='skip')"
      ],
      "metadata": {
        "id": "UAhlFMW4ZUTM"
      },
      "execution_count": 32,
      "outputs": []
    },
    {
      "cell_type": "code",
      "source": [
        "# Exibindo as primeiras linhas do DataFrame\n",
        "print(df.head()) # Mostra as 5 primeiras linhas por padrão e as 5 últimas"
      ],
      "metadata": {
        "id": "LVuxG6_eaTPP",
        "colab": {
          "base_uri": "https://localhost:8080/"
        },
        "outputId": "ab03bdb9-87db-4204-e172-11ee2da9c056"
      },
      "execution_count": 33,
      "outputs": [
        {
          "output_type": "stream",
          "name": "stdout",
          "text": [
            "                                                                                             v1;v2;;;\n",
            "ham;Go until jurong point                            crazy.. Available only in bugis n great world...\n",
            "ham;Ok lar... Joking wif u oni...;;;                                                              NaN\n",
            "spam;Free entry in 2 a wkly comp to win FA Cup ...                                                NaN\n",
            "ham;U dun say so early hor... U c already then ...                                                NaN\n",
            "ham;Nah I don't think he goes to usf                                   he lives around here though;;;\n"
          ]
        }
      ]
    },
    {
      "cell_type": "code",
      "source": [
        "# Resumo estatístico das colunas numéricas\n",
        "print(df.describe())  # Estatísticas descritivas como média e desvio padrão"
      ],
      "metadata": {
        "id": "05iy0hX5aYOA",
        "colab": {
          "base_uri": "https://localhost:8080/"
        },
        "outputId": "f8bb1344-2582-4e0c-a482-bb2e2a44927b"
      },
      "execution_count": 34,
      "outputs": [
        {
          "output_type": "stream",
          "name": "stdout",
          "text": [
            "                   v1;v2;;;\n",
            "count                   927\n",
            "unique                  828\n",
            "top      I'll call later;;;\n",
            "freq                     30\n"
          ]
        }
      ]
    },
    {
      "cell_type": "code",
      "source": [
        "# Verificando a dimensão do DataFrame\n",
        "print(f\"Dimensões do dataset: {df.shape}\")  # Número de linhas e colunas"
      ],
      "metadata": {
        "id": "pB0OmvAla7Fl",
        "colab": {
          "base_uri": "https://localhost:8080/"
        },
        "outputId": "3407e581-044c-48b6-8ee5-b161b507877d"
      },
      "execution_count": 35,
      "outputs": [
        {
          "output_type": "stream",
          "name": "stdout",
          "text": [
            "Dimensões do dataset: (5198, 1)\n"
          ]
        }
      ]
    },
    {
      "cell_type": "markdown",
      "source": [
        "##Pré processamento"
      ],
      "metadata": {
        "id": "t0e4UUYf0SyQ"
      }
    },
    {
      "cell_type": "code",
      "source": [
        "# Visualizando se há valores ausentes\n",
        "print(df.isnull().sum())  # Contagem de valores nulos por coluna"
      ],
      "metadata": {
        "id": "u-d7w7ixfL-E",
        "colab": {
          "base_uri": "https://localhost:8080/"
        },
        "outputId": "6bf0bbcf-8642-4fdf-c4f9-852de419af13"
      },
      "execution_count": 36,
      "outputs": [
        {
          "output_type": "stream",
          "name": "stdout",
          "text": [
            "v1;v2;;;    4271\n",
            "dtype: int64\n"
          ]
        }
      ]
    },
    {
      "cell_type": "code",
      "source": [
        "# Tratando valores ausentes\n",
        "df = df.dropna()  # Remove linhas com valores nulos (ou use imputação)"
      ],
      "metadata": {
        "id": "n0Bwkz40fQK0"
      },
      "execution_count": 37,
      "outputs": []
    },
    {
      "cell_type": "code",
      "source": [
        "# Visualizando o dataset após o tratamento dos valores ausentes\n",
        "print(df.isnull().sum())  # Contagem de valores nulos por coluna"
      ],
      "metadata": {
        "id": "Q8r5CFzSfSyA",
        "colab": {
          "base_uri": "https://localhost:8080/"
        },
        "outputId": "15a5ec61-707f-47f4-f191-f9e4d590f428"
      },
      "execution_count": 38,
      "outputs": [
        {
          "output_type": "stream",
          "name": "stdout",
          "text": [
            "v1;v2;;;    0\n",
            "dtype: int64\n"
          ]
        }
      ]
    },
    {
      "cell_type": "code",
      "source": [
        "# Verificando a dimensão do DataFrame após o tratamento dos valores ausentes\n",
        "print(f\"Dimensões do dataset: {df.shape}\")  # Número de linhas e colunas"
      ],
      "metadata": {
        "id": "tXGjLqJ9gF4O",
        "colab": {
          "base_uri": "https://localhost:8080/"
        },
        "outputId": "990bc11c-f1f4-46d7-96d2-25a328ea67ef"
      },
      "execution_count": 39,
      "outputs": [
        {
          "output_type": "stream",
          "name": "stdout",
          "text": [
            "Dimensões do dataset: (927, 1)\n"
          ]
        }
      ]
    },
    {
      "cell_type": "code",
      "source": [
        "# Carregando o dataset usando delimitador\n",
        "df = pd.read_csv('https://raw.githubusercontent.com/andrespeedwork/Machine-Learning-Analytics/refs/heads/main/spam.csv', encoding='latin-1', delimiter=';')\n",
        "# Setando o ';' para corrigir o arquivo\n",
        "df = df[['v1', 'v2']]  # Ajuste para separar rótulos e mensagens\n",
        "df.columns = ['label', 'text']\n",
        "df['label'] = df['label'].map({'ham': 0, 'spam': 1})  # Codificação binária"
      ],
      "metadata": {
        "id": "af-Ala5Zg-ki"
      },
      "execution_count": 40,
      "outputs": []
    },
    {
      "cell_type": "code",
      "source": [
        "# Transformando um conjunto de textos em representações numéricas\n",
        "vectorizer = TfidfVectorizer(stop_words='english', max_features=5000)\n",
        "X = vectorizer.fit_transform(df['text'])\n",
        "y = df['label']"
      ],
      "metadata": {
        "id": "5kNF1j-dhBmM"
      },
      "execution_count": 41,
      "outputs": []
    },
    {
      "source": [
        "df = pd.read_csv('https://raw.githubusercontent.com/andrespeedwork/Machine-Learning-Analytics/refs/heads/main/spam.csv', encoding='latin-1', delimiter=';')\n",
        "df = df[['v1', 'v2']]  # Ajuste para separar rótulos e mensagens\n",
        "df.columns = ['label', 'text']\n",
        "df['label'] = df['label'].map({'ham': 0, 'spam': 1})  # Codificação binária"
      ],
      "cell_type": "code",
      "metadata": {
        "id": "VyistPYP9GJe"
      },
      "execution_count": 42,
      "outputs": []
    },
    {
      "source": [
        "import seaborn as sns\n",
        "import matplotlib.pyplot as plt\n",
        "\n",
        "# Assumindo que a coluna 'label' representa o alvo (0 for ham, 1 for spam)\n",
        "# Criando histogramas com base no comprimento do texto:\n",
        "# Calculando o comprimento do texto e adicione-o como uma nova coluna\n",
        "df['num_char'] = df['text'].apply(len)\n",
        "\n",
        "plt.figure(figsize=(12, 6))\n",
        "sns.histplot(df[df['label'] == 0]['num_char'], label='Ham')  # Use 'label' instead of 'target'\n",
        "sns.histplot(df[df['label'] == 1]['num_char'], color='black', label='Spam')  # Use 'label' instead of 'target'\n",
        "plt.legend()  # Add a legend to distinguish between ham and spam\n",
        "plt.show()"
      ],
      "cell_type": "code",
      "metadata": {
        "colab": {
          "base_uri": "https://localhost:8080/",
          "height": 460
        },
        "id": "tYMYWJ5s9G7x",
        "outputId": "66171504-77d4-45dd-cf2c-ec3880976541"
      },
      "execution_count": 43,
      "outputs": [
        {
          "output_type": "display_data",
          "data": {
            "text/plain": [
              "<Figure size 1200x600 with 1 Axes>"
            ],
            "image/png": "[encoded data removed]"
          },
          "metadata": {}
        }
      ]
    },
    {
      "cell_type": "markdown",
      "source": [
        "##Dividindo o dataset entre treino e teste"
      ],
      "metadata": {
        "id": "lQmQv6So8vDt"
      }
    },
    {
      "cell_type": "code",
      "source": [
        "# Dividindo o dataset entre treino e teste\n",
        "X_train, X_test, y_train, y_test = train_test_split(X, y, test_size=0.2, random_state=42)"
      ],
      "metadata": {
        "id": "aIwIWcdChSzD"
      },
      "execution_count": 44,
      "outputs": []
    },
    {
      "source": [
        "# Normalizar os dados (apenas X)\n",
        "scaler = StandardScaler(with_mean=False) # Configurando with_mean=False para evitar centralização\n",
        "X_train = scaler.fit_transform(X_train)\n",
        "X_test = scaler.transform(X_test)"
      ],
      "cell_type": "code",
      "metadata": {
        "id": "EqWJd21qLmpz"
      },
      "execution_count": 45,
      "outputs": []
    },
    {
      "source": [
        "# Assumindo que X é sua csr_matrix\n",
        "X_dense = X.toarray()  # Convertendo matriz esparsa em uma matriz densa\n",
        "\n",
        "# plotando o histograma\n",
        "plt.hist(X_dense.flatten(), bins=20, edgecolor='black')\n",
        "plt.suptitle('Distribuição das Variáveis (Recursos)', fontsize=16)\n",
        "plt.show()"
      ],
      "cell_type": "code",
      "metadata": {
        "id": "L1aNPSkBL11Z",
        "colab": {
          "base_uri": "https://localhost:8080/",
          "height": 498
        },
        "outputId": "52030c2f-d3b6-45c0-d068-2c997750e332"
      },
      "execution_count": 46,
      "outputs": [
        {
          "output_type": "display_data",
          "data": {
            "text/plain": [
              "<Figure size 640x480 with 1 Axes>"
            ],
            "image/png": "[encoded data removed]"
          },
          "metadata": {}
        }
      ]
    },
    {
      "cell_type": "code",
      "source": [
        "# Modelo e validação cruzada\n",
        "model = MultinomialNB()\n",
        "scores = cross_val_score(model, X_train, y_train, cv=5, scoring='f1')\n",
        "\n",
        "print(f\"F1-Score médio: {scores.mean()}\")"
      ],
      "metadata": {
        "id": "An72AMeyhWNg",
        "colab": {
          "base_uri": "https://localhost:8080/"
        },
        "outputId": "0cba5bb6-bc37-4e57-8cb3-5beb569c9cf0"
      },
      "execution_count": 47,
      "outputs": [
        {
          "output_type": "stream",
          "name": "stdout",
          "text": [
            "F1-Score médio: 0.8036863483240293\n"
          ]
        }
      ]
    },
    {
      "cell_type": "markdown",
      "source": [
        "## Treinando e testando o modelo"
      ],
      "metadata": {
        "id": "wyHnQHhM8_KY"
      }
    },
    {
      "cell_type": "markdown",
      "source": [
        "Treinando o modelo com alguns algoritimos"
      ],
      "metadata": {
        "id": "kBaXpMAB9Owj"
      }
    },
    {
      "cell_type": "code",
      "source": [
        "# K-Nearest Neighbors (KNN)\n",
        "\n",
        "knn = KNeighborsClassifier(n_neighbors=7)\n",
        "knn.fit(X_train, y_train)\n",
        "\n",
        "# Fazer predições\n",
        "y_pred_knn = knn.predict(X_test)\n",
        "\n",
        "# Avaliação\n",
        "print(\"K-Nearest Neighbors\")\n",
        "print(classification_report(y_test, y_pred_knn))"
      ],
      "metadata": {
        "colab": {
          "base_uri": "https://localhost:8080/"
        },
        "id": "Q5DYb8_aRXEU",
        "outputId": "62405535-0922-403b-8e86-36539c9806db"
      },
      "execution_count": 48,
      "outputs": [
        {
          "output_type": "stream",
          "name": "stdout",
          "text": [
            "K-Nearest Neighbors\n",
            "              precision    recall  f1-score   support\n",
            "\n",
            "           0       0.88      1.00      0.94       965\n",
            "           1       1.00      0.14      0.25       150\n",
            "\n",
            "    accuracy                           0.88      1115\n",
            "   macro avg       0.94      0.57      0.59      1115\n",
            "weighted avg       0.90      0.88      0.84      1115\n",
            "\n"
          ]
        }
      ]
    },
    {
      "cell_type": "code",
      "source": [
        "# Logistic Regression\n",
        "\n",
        "lr = LogisticRegression(random_state=42)\n",
        "lr.fit(X_train, y_train)\n",
        "\n",
        "# Fazer predições\n",
        "y_pred_lr = lr.predict(X_test)\n",
        "\n",
        "# Avaliação\n",
        "print(\"Logistic Regression\")\n",
        "print(classification_report(y_test, y_pred_lr))"
      ],
      "metadata": {
        "colab": {
          "base_uri": "https://localhost:8080/"
        },
        "id": "6M60uszYRgkI",
        "outputId": "c7d8ab48-097d-485c-a353-4bcb77a28bbe"
      },
      "execution_count": 49,
      "outputs": [
        {
          "output_type": "stream",
          "name": "stdout",
          "text": [
            "Logistic Regression\n",
            "              precision    recall  f1-score   support\n",
            "\n",
            "           0       0.98      1.00      0.99       965\n",
            "           1       0.97      0.86      0.91       150\n",
            "\n",
            "    accuracy                           0.98      1115\n",
            "   macro avg       0.97      0.93      0.95      1115\n",
            "weighted avg       0.98      0.98      0.98      1115\n",
            "\n"
          ]
        }
      ]
    },
    {
      "cell_type": "code",
      "source": [
        "# Random Forest Classifier\n",
        "\n",
        "rf = RandomForestClassifier(random_state=42)\n",
        "rf.fit(X_train, y_train)\n",
        "\n",
        "# Fazer predições\n",
        "y_pred_rf = rf.predict(X_test)\n",
        "\n",
        "# Avaliação\n",
        "print(\"Random Forest Classifier\")\n",
        "print(classification_report(y_test, y_pred_rf))"
      ],
      "metadata": {
        "id": "q3BUa2gfhqZQ",
        "colab": {
          "base_uri": "https://localhost:8080/"
        },
        "outputId": "f6505f74-b4b8-43b4-8dd8-7ccfeb1f159e"
      },
      "execution_count": 50,
      "outputs": [
        {
          "output_type": "stream",
          "name": "stdout",
          "text": [
            "Random Forest Classifier\n",
            "              precision    recall  f1-score   support\n",
            "\n",
            "           0       0.98      1.00      0.99       965\n",
            "           1       0.99      0.85      0.91       150\n",
            "\n",
            "    accuracy                           0.98      1115\n",
            "   macro avg       0.98      0.92      0.95      1115\n",
            "weighted avg       0.98      0.98      0.98      1115\n",
            "\n"
          ]
        }
      ]
    },
    {
      "cell_type": "markdown",
      "source": [
        "## Ajustando Hiperparâmetros\n",
        "Neste caso escolhi trabalhar com KNN"
      ],
      "metadata": {
        "id": "CJxMphzL-LjZ"
      }
    },
    {
      "source": [
        "# Testar diferentes valores de k\n",
        "from sklearn.model_selection import StratifiedKFold # Import if not already done\n",
        "\n",
        "k_values = range(1, 15)  # Valores de k de 1 a 15\n",
        "mean_scores = []\n",
        "\n",
        "# Define cv here:\n",
        "cv = StratifiedKFold(n_splits=5, shuffle=True, random_state=42)\n",
        "\n",
        "for k in k_values:\n",
        "    knn = KNeighborsClassifier(n_neighbors=k)\n",
        "    scores = cross_val_score(knn, X, y, cv=cv, scoring='accuracy')\n",
        "    mean_scores.append(scores.mean())\n",
        "\n",
        "# Plotar os resultados\n",
        "plt.figure(figsize=(10, 6))\n",
        "plt.plot(k_values, mean_scores, marker='o', linestyle='--', color='b')\n",
        "plt.title('Ajuste do Número de Vizinhos (k)')\n",
        "plt.xlabel('Número de Vizinhos (k)')\n",
        "plt.ylabel('Acurácia Média')\n",
        "plt.xticks(k_values)\n",
        "plt.grid(True)\n",
        "plt.show()"
      ],
      "cell_type": "code",
      "metadata": {
        "colab": {
          "base_uri": "https://localhost:8080/",
          "height": 556
        },
        "id": "xz6XFGbItxjC",
        "outputId": "5d8185ed-37f3-4801-b203-d0d117cf9950"
      },
      "execution_count": 51,
      "outputs": [
        {
          "output_type": "display_data",
          "data": {
            "text/plain": [
              "<Figure size 1000x600 with 1 Axes>"
            ],
            "image/png": "[encoded data removed]"
          },
          "metadata": {}
        }
      ]
    },
    {
      "cell_type": "code",
      "source": [
        "# Treinar KNN com Cross-Validation\n",
        "\n",
        "#Aqui, usamos a validação cruzada com o modelo KNN para avaliar o desempenho.\n",
        "\n",
        "# Configurar validação cruzada\n",
        "cv = StratifiedKFold(n_splits=5, shuffle=True, random_state=42)\n",
        "\n",
        "# Treinar o modelo KNN\n",
        "knn = KNeighborsClassifier(n_neighbors=5)  # Começando com k=5\n",
        "scores = cross_val_score(knn, X, y, cv=cv, scoring='accuracy')\n",
        "\n",
        "# Resultados\n",
        "print(f\"Acurácias por dobra: {scores}\")\n",
        "print(f\"Acurácia média: {scores.mean():.4f}\")"
      ],
      "metadata": {
        "id": "AsR5MLKII4Y9",
        "colab": {
          "base_uri": "https://localhost:8080/"
        },
        "outputId": "02afd656-b8a5-4b03-c2cd-a6ab1b2b87f9"
      },
      "execution_count": 52,
      "outputs": [
        {
          "output_type": "stream",
          "name": "stdout",
          "text": [
            "Acurácias por dobra: [0.90852018 0.91121076 0.90933573 0.90394973 0.91472172]\n",
            "Acurácia média: 0.9095\n"
          ]
        }
      ]
    },
    {
      "cell_type": "code",
      "source": [
        "\n",
        "# Para melhorar o desempenho, ajuste os hiperparâmetros dos modelos. Exemplos:\n",
        "\n",
        "#    Para Random Forest: Ajuste n_estimators, max_depth, etc.\n",
        "#   Para KNN: Teste diferentes valores para n_neighbors.\n",
        "\n",
        "# Exemplo com GridSearchCV:\n",
        "\n",
        "# Parâmetros para ajustar no KNN\n",
        "param_grid = {'n_neighbors': [3, 5, 7, 9]}\n",
        "grid_knn = GridSearchCV(KNeighborsClassifier(), param_grid, cv=5)\n",
        "grid_knn.fit(X_train, y_train)\n",
        "\n",
        "print(\"Melhores parâmetros para KNN:\", grid_knn.best_params_)"
      ],
      "metadata": {
        "id": "mC7hBxvQh_TT",
        "colab": {
          "base_uri": "https://localhost:8080/"
        },
        "outputId": "0018828d-b0c0-4098-c629-36f32c8eb13e"
      },
      "execution_count": 53,
      "outputs": [
        {
          "output_type": "stream",
          "name": "stdout",
          "text": [
            "Melhores parâmetros para KNN: {'n_neighbors': 3}\n"
          ]
        }
      ]
    },
    {
      "source": [
        "# Treinamento Final com o Melhor k\n",
        "\n",
        "# Após encontrar o melhor valor de k, treine o modelo novamente e avalie o desempenho.\n",
        "\n",
        "# Melhor KNN\n",
        "best_k = grid_knn.best_params_['n_neighbors'] # Get best_k from GridSearchCV results\n",
        "knn_best = KNeighborsClassifier(n_neighbors=best_k)\n",
        "\n",
        "# Avaliação com validação cruzada\n",
        "final_scores = cross_val_score(knn_best, X, y, cv=cv, scoring='accuracy')\n",
        "\n",
        "print(f\"Melhor KNN - Acurácias por dobra: {final_scores}\")\n",
        "print(f\"Melhor KNN - Acurácia média: {final_scores.mean():.4f}\")"
      ],
      "cell_type": "code",
      "metadata": {
        "colab": {
          "base_uri": "https://localhost:8080/"
        },
        "id": "HUIvZW3suAmG",
        "outputId": "884116e1-a9c2-473a-e71a-f5fcf68f7875"
      },
      "execution_count": 54,
      "outputs": [
        {
          "output_type": "stream",
          "name": "stdout",
          "text": [
            "Melhor KNN - Acurácias por dobra: [0.92197309 0.9264574  0.92818671 0.92010772 0.92549372]\n",
            "Melhor KNN - Acurácia média: 0.9244\n"
          ]
        }
      ]
    },
    {
      "cell_type": "markdown",
      "source": [
        "##Concusão dos testes realizados"
      ],
      "metadata": {
        "id": "irCrFnluiagx"
      }
    },
    {
      "cell_type": "markdown",
      "source": [
        "A melhor solução será aquela que maximiza o F1-Score, já que ele balanceia precisão e revocação, duas métricas cruciais em um problema de detecção de spam. Um modelo com alto F1-Score, que também apresente boa precisão e revocação, seria a solução ideal.\n",
        "Se, por exemplo, o modelo KNN com o valor otimizado de k apresentou os melhores resultados (altas pontuações em precisão, recall e F1-Score), seria a melhor escolha.\n",
        "\n",
        "Conclusão: O modelo ideal depende dos resultados das métricas de avaliação e do equilíbrio entre elas. O melhor modelo deve ser escolhido com base na aplicação específica, considerando o custo dos falsos positivos e falsos negativos no contexto de detecção de spam.\n"
      ],
      "metadata": {
        "id": "0BJ5-y6Wr0MD"
      }
    },
    {
      "cell_type": "markdown",
      "source": [
        "\n",
        "##REFERÊNCIAS\n",
        "\n",
        "Email Ham/Spam Dataset, 2024 em: https://www.kaggle.com/datasets/satyajeetbedi/email-hamspam-dataset/ Acesso em: 29/11/2024.\n",
        "\n",
        "Consulta de material. Disponível em: https://www.kaggle.com/code/suhawni/email-spam-classifier. Acesso em: 02/12/2024.\n",
        "\n",
        "Introdução à Ciência de Dados (Data Science): Didática Tech. Youtube, 2022. Disponível em: https://www.youtube.com/watch?v=sjpBNi4DgI0. Acesso em: 19/09/2024\n",
        "\n",
        "Como criar um projeto de Data Science do zero para seu Portfólio | Hipsters: Portfólio Dev. Youtube, 2024. Disponível em: https://www.youtube.com/watch?v=hV3ORe7F8Q4. Acesso em: 18/09/2024\n"
      ],
      "metadata": {
        "id": "wIXnR2046TXt"
      }
    }
  ]
}